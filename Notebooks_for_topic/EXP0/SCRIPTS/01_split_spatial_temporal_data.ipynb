{
 "cells": [
  {
   "cell_type": "markdown",
   "metadata": {},
   "source": [
    "# Splitting SEPP Simulated Data into Train, Test, and Validation Sets\n",
    "This notebook processes simulated SEPP datasets by splitting them based on timestamp intervals into training, test, and validation subsets."
   ]
  },
  {
   "cell_type": "markdown",
   "metadata": {},
   "source": [
    "## 0. Import libraries and configure paths"
   ]
  },
  {
   "cell_type": "code",
   "execution_count": null,
   "metadata": {},
   "outputs": [],
   "source": [
    "import sys, os\n",
    "from pathlib import Path\n",
    "\n",
    "# Add local paths to system path\n",
    "path_opencp = Path('Librerias/PredictCode')\n",
    "path_fairness = Path('Librerias')\n",
    "path_exp = Path('.../EXP0/SCRIPTS')\n",
    "sys.path.insert(0, str(path_opencp.resolve()))\n",
    "sys.path.insert(0, str(path_fairness.resolve()))\n",
    "sys.path.insert(0, str(path_exp.resolve()))"
   ]
  },
  {
   "cell_type": "markdown",
   "metadata": {},
   "source": [
    "## 1. Set working directory and import core packages"
   ]
  },
  {
   "cell_type": "code",
   "execution_count": null,
   "metadata": {},
   "outputs": [],
   "source": [
    "import pickle as pkl\n",
    "import datetime\n",
    "\n",
    "# Change to working directory where the data is stored\n",
    "os.chdir('.../EXP0')"
   ]
  },
  {
   "cell_type": "markdown",
   "metadata": {},
   "source": [
    "## 2. Load global variables for time ranges and file directories"
   ]
  },
  {
   "cell_type": "code",
   "execution_count": null,
   "metadata": {},
   "outputs": [],
   "source": [
    "from global_vars import f_inicial, f_final, f_final_train, f_final_test, f_final_val\n",
    "from global_vars import dir_sims, dir_split\n",
    "\n",
    "# Prefix for simulation files\n",
    "prefix_data = \"Data_\""
   ]
  },
  {
   "cell_type": "markdown",
   "metadata": {},
   "source": [
    "## 3. Split each simulation into Train, Test, and Validation"
   ]
  },
  {
   "cell_type": "code",
   "execution_count": null,
   "metadata": {},
   "outputs": [],
   "source": [
    "# Iterate through simulation files and perform time-based splits\n",
    "for i in os.listdir(dir_sims):\n",
    "    if prefix_data in i:\n",
    "        timed_points_NM = pkl.load(open(os.path.join(dir_sims, i), \"rb\"))\n",
    "\n",
    "        # Split data based on timestamp intervals\n",
    "        data_train = timed_points_NM[(timed_points_NM.times_datetime() >= f_inicial) &\n",
    "                                     (timed_points_NM.times_datetime() < f_final_train)]\n",
    "        data_test = timed_points_NM[(timed_points_NM.times_datetime() >= f_final_train) &\n",
    "                                    (timed_points_NM.times_datetime() < f_final_test)]\n",
    "        data_val = timed_points_NM[(timed_points_NM.times_datetime() >= f_final_test) &\n",
    "                                   (timed_points_NM.times_datetime() < f_final_val)]\n",
    "\n",
    "        # Save each subset to file\n",
    "        pkl.dump(data_train, open(os.path.join(dir_split, \"Train_\" + i), \"wb\"))\n",
    "        pkl.dump(data_test, open(os.path.join(dir_split, \"Test_\" + i), \"wb\"))\n",
    "        pkl.dump(data_val, open(os.path.join(dir_split, \"Val_\" + i), \"wb\"))"
   ]
  }
 ],
 "metadata": {
  "kernelspec": {
   "display_name": "Python 3",
   "language": "python",
   "name": "python3"
  },
  "language_info": {
   "name": "python",
   "version": "3.9"
  }
 },
 "nbformat": 4,
 "nbformat_minor": 2
}
