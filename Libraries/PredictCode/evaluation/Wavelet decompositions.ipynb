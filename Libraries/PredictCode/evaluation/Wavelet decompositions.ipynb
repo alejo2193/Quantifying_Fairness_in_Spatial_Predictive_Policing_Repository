{
 "cells": [
  {
   "cell_type": "markdown",
   "metadata": {},
   "source": [
    "# Wavelet decompositions\n",
    "\n",
    "Leading on from the \"multi-scale\" ideas in the \"Scoring functions\" notebook...\n",
    "\n",
    "## References\n",
    "\n",
    "1. Casati, Wilson, \"A New Spatial-Scale Decomposition of the Brier Score: Application to the Verification of Lightning Probability Forecasts\", Mon. Wea. Rev. (2007) 135, 3052–3069, https://doi.org/10.1175/MWR3442.1\n",
    "\n",
    "## Wavelets\n",
    "\n",
    "To do.  Don't expect to be much different to the previous idea..."
   ]
  },
  {
   "cell_type": "code",
   "execution_count": null,
   "metadata": {
    "collapsed": true
   },
   "outputs": [],
   "source": []
  }
 ],
 "metadata": {
  "kernelspec": {
   "display_name": "Python 3",
   "language": "python",
   "name": "python3"
  },
  "language_info": {
   "codemirror_mode": {
    "name": "ipython",
    "version": 3
   },
   "file_extension": ".py",
   "mimetype": "text/x-python",
   "name": "python",
   "nbconvert_exporter": "python",
   "pygments_lexer": "ipython3",
   "version": "3.6.0"
  }
 },
 "nbformat": 4,
 "nbformat_minor": 2
}
