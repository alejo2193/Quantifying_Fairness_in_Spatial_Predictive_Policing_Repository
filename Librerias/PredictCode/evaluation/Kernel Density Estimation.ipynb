{
 "cells": [
  {
   "cell_type": "markdown",
   "metadata": {},
   "source": [
    "# Kernel Density Estimation\n",
    "\n",
    "### References\n",
    "\n",
    "1. Duong et al. \"Closed-form density-based framework for automatic detection of cellular morphology changes\" http://m.pnas.org/content/109/22/8382.full\n",
    "2. Kelsall, Diggle, \"Non-parametric estimation of spatial variation in relative risk\", Statistics in Medicine 14 (1995) 2335--2342"
   ]
  },
  {
   "cell_type": "markdown",
   "metadata": {},
   "source": [
    "Similar to the use of likelihood, we might instead first use the actual events to form a density surface, using some KDE method, and then comparing this risk surface against the predicted one.\n",
    "\n",
    "This is suggested in [1], in a medical imaging context (cellular morphology).  The proposed way to compare two kernels is via integrated square error\n",
    "$$ T = \\int \\big|f(x) - p(x)\\big|^2 $$\n",
    "where $f$ is the kernel estimated from the actual events, and $p$ is the prediction.  When both $f$ and $p$ are estimated from a fixed bandwidth KDE, it is possible to expand out the integral defining $T$ and proceed at least partly analytically, which is how [1] proceeds.  In our case, $p$ will often not be given by an explicit KDE method.  Furthermore, we also wish to consider the \"edge correction\" methods as suggested by [2]."
   ]
  },
  {
   "cell_type": "markdown",
   "metadata": {
    "collapsed": true
   },
   "source": [
    "# Advantages\n",
    "\n",
    "- Clear interpretation"
   ]
  },
  {
   "cell_type": "markdown",
   "metadata": {},
   "source": [
    "# Disadvantages\n",
    "\n",
    "- Computationally expensive.\n",
    "- Very hard to choose the correct bandwidth for $f$, compounded by the small expected number of actual events."
   ]
  },
  {
   "cell_type": "code",
   "execution_count": null,
   "metadata": {
    "collapsed": true
   },
   "outputs": [],
   "source": []
  }
 ],
 "metadata": {
  "kernelspec": {
   "display_name": "Python 3",
   "language": "python",
   "name": "python3"
  },
  "language_info": {
   "codemirror_mode": {
    "name": "ipython",
    "version": 3
   },
   "file_extension": ".py",
   "mimetype": "text/x-python",
   "name": "python",
   "nbconvert_exporter": "python",
   "pygments_lexer": "ipython3",
   "version": "3.6.0"
  }
 },
 "nbformat": 4,
 "nbformat_minor": 2
}
