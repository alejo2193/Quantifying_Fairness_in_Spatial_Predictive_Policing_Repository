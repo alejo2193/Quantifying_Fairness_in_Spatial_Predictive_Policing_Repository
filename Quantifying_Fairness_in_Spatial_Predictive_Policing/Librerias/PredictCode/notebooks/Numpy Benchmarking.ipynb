{
 "cells": [
  {
   "cell_type": "markdown",
   "metadata": {},
   "source": [
    "For the various SEPP algorithms, we end manipulating an upper-triangular matrix."
   ]
  },
  {
   "cell_type": "code",
   "execution_count": 1,
   "metadata": {
    "collapsed": false
   },
   "outputs": [],
   "source": [
    "import numpy as np\n",
    "\n",
    "def back(t):\n",
    "    t = np.asarray(t)\n",
    "    return np.zeros_like(t) + 1.5\n",
    "\n",
    "def trig(dt):\n",
    "    return 0.7 * np.exp(-0.2 * np.asanyarray(dt))\n",
    "\n",
    "def rand(n):\n",
    "    t = np.random.random(n)\n",
    "    t.sort()\n",
    "    for i in range(len(t)-1):\n",
    "        if t[i] == t[i+1]:\n",
    "            raise AssertionError()\n",
    "    return t"
   ]
  },
  {
   "cell_type": "code",
   "execution_count": 2,
   "metadata": {
    "collapsed": false
   },
   "outputs": [],
   "source": [
    "def slow(times):\n",
    "    p = np.zeros((len(times), len(times)))\n",
    "    for i, t in enumerate(times):\n",
    "        p[i,i] = back(t)\n",
    "        for j, s in enumerate(times[:i]):\n",
    "            p[j,i] = trig(t-s)\n",
    "    for i in range(p.shape[0]):\n",
    "        p[:,i] /= np.sum(p[:,i])\n",
    "    return p\n",
    "\n",
    "np.testing.assert_allclose(slow([1]), [[1]])\n",
    "b = 1.5\n",
    "a = trig(1)\n",
    "np.testing.assert_allclose(slow([1,2]), [[1, a/(a+b)], [0,b/(a+b)]])"
   ]
  },
  {
   "cell_type": "code",
   "execution_count": 3,
   "metadata": {
    "collapsed": false
   },
   "outputs": [],
   "source": [
    "def f1(times):\n",
    "    times = np.asarray(times)\n",
    "    p = np.zeros((len(times), len(times)))\n",
    "    for i, t in enumerate(times):\n",
    "        p[i,i] = back(t)\n",
    "        p[:i, i] = trig(t - times[:i])\n",
    "    return p / np.sum(p, axis=0)[None,:]\n",
    "\n",
    "for n in range(1, 10):\n",
    "    for _ in range(100):\n",
    "        times = rand(n)\n",
    "        np.testing.assert_allclose(slow(times), f1(times))"
   ]
  },
  {
   "cell_type": "code",
   "execution_count": 4,
   "metadata": {
    "collapsed": false
   },
   "outputs": [],
   "source": [
    "def f2(times):\n",
    "    times = np.asarray(times)\n",
    "    d = times.shape[0]\n",
    "    p = np.empty((d,d))\n",
    "    for i, t in enumerate(times):\n",
    "        p[i,i] = back(t)\n",
    "        p[:i, i] = trig(t - times[:i])\n",
    "        p[i+1:, i] = 0\n",
    "    return p / np.sum(p, axis=0)[None,:]\n",
    "\n",
    "for n in range(1, 10):\n",
    "    for _ in range(100):\n",
    "        times = rand(n)\n",
    "        np.testing.assert_allclose(slow(times), f2(times))"
   ]
  },
  {
   "cell_type": "code",
   "execution_count": 5,
   "metadata": {
    "collapsed": false
   },
   "outputs": [],
   "source": [
    "def f3(times):\n",
    "    # More space efficient\n",
    "    times = np.asarray(times)\n",
    "    d = times.shape[0]\n",
    "    p = np.empty(d*(d+1)//2)\n",
    "    offset = int()\n",
    "    for i, t in enumerate(times):\n",
    "        p[offset+i] = back(t)\n",
    "        p[offset : offset+i] = trig(t - times[:i])\n",
    "        norm = np.sum(p[offset : offset+i+1])\n",
    "        p[offset : offset+i+1] /= norm\n",
    "        offset += i + 1\n",
    "    return p\n",
    "\n",
    "def to_compressed(p):\n",
    "    d = p.shape[0]\n",
    "    pp = np.empty(d*(d+1)//2)\n",
    "    offset = 0\n",
    "    for i in range(d):\n",
    "        pp[offset : offset + i + 1] = p[:i+1,i]\n",
    "        offset += i + 1\n",
    "    return pp\n",
    "\n",
    "for n in range(1, 10):\n",
    "    for _ in range(100):\n",
    "        times = rand(n)\n",
    "        np.testing.assert_allclose(to_compressed(slow(times)), f3(times))"
   ]
  },
  {
   "cell_type": "code",
   "execution_count": 6,
   "metadata": {
    "collapsed": false
   },
   "outputs": [],
   "source": [
    "def f4(times):\n",
    "    times = np.asarray(times)\n",
    "    d = times.shape[0]\n",
    "    diag = back(times)\n",
    "    offdiag = np.empty(d * (d-1) // 2)\n",
    "    offset = 0\n",
    "    for i, t in enumerate(times):\n",
    "        offdiag[offset : offset+i] = trig(t - times[:i])\n",
    "        norm = diag[i] + np.sum(offdiag[offset : offset+i])\n",
    "        diag[i] /= norm\n",
    "        offdiag[offset : offset+i] /= norm\n",
    "        offset += i\n",
    "    return diag, offdiag\n",
    "\n",
    "def split(p):\n",
    "    d = p.shape[0]\n",
    "    diag = np.empty(d)\n",
    "    for i in range(d):\n",
    "        diag[i] = p[i,i]\n",
    "    offdiag = np.empty(d * (d-1) // 2)\n",
    "    offset = 0\n",
    "    for i in range(1, d):\n",
    "        offdiag[offset : offset+i] = p[:i,i]        \n",
    "        offset += i\n",
    "    return diag, offdiag\n",
    "\n",
    "for n in range(1, 10):\n",
    "    for _ in range(10):\n",
    "        times = rand(n)\n",
    "        np.testing.assert_allclose(split(slow(times))[0], f4(times)[0])\n",
    "        np.testing.assert_allclose(split(slow(times))[1], f4(times)[1])"
   ]
  },
  {
   "cell_type": "code",
   "execution_count": 7,
   "metadata": {
    "collapsed": false
   },
   "outputs": [],
   "source": [
    "def f5(times):\n",
    "    times = np.asarray(times)\n",
    "    d = times.shape[0]\n",
    "    p = np.zeros((d,d))\n",
    "    p[np.diag_indices(d)] = back(times)\n",
    "    for i, t in enumerate(times):\n",
    "        p[:i, i] = trig(t - times[:i])\n",
    "    return p / np.sum(p, axis=0)[None,:]\n",
    "\n",
    "for n in range(1, 10):\n",
    "    for _ in range(100):\n",
    "        times = rand(n)\n",
    "        np.testing.assert_allclose(slow(times), f5(times))"
   ]
  },
  {
   "cell_type": "code",
   "execution_count": 8,
   "metadata": {
    "collapsed": false
   },
   "outputs": [],
   "source": [
    "def f6(times):\n",
    "    times = np.asarray(times)\n",
    "    d = times.shape[0]\n",
    "    dt = times[None,:] - times[:,None]\n",
    "    dt = np.ma.array(dt, mask=dt<=0)\n",
    "    p = trig(dt)\n",
    "    p[np.diag_indices(d)] = back(times)\n",
    "    p /= np.sum(p, axis=0)[None,:]\n",
    "    return p\n",
    "\n",
    "for n in range(1, 10):\n",
    "    for _ in range(100):\n",
    "        times = rand(n)\n",
    "        np.testing.assert_allclose(slow(times), f6(times))"
   ]
  },
  {
   "cell_type": "code",
   "execution_count": 9,
   "metadata": {
    "collapsed": false
   },
   "outputs": [
    {
     "name": "stdout",
     "output_type": "stream",
     "text": [
      "1000 loops, best of 3: 239 µs per loop\n",
      "1000 loops, best of 3: 280 µs per loop\n",
      "1000 loops, best of 3: 360 µs per loop\n",
      "1000 loops, best of 3: 253 µs per loop\n",
      "10000 loops, best of 3: 133 µs per loop\n",
      "1000 loops, best of 3: 532 µs per loop\n"
     ]
    }
   ],
   "source": [
    "times = rand(10)\n",
    "\n",
    "%timeit(f1(times))\n",
    "%timeit(f2(times))\n",
    "%timeit(f3(times))\n",
    "%timeit(f4(times))\n",
    "%timeit(f5(times))\n",
    "%timeit(f6(times))"
   ]
  },
  {
   "cell_type": "code",
   "execution_count": 10,
   "metadata": {
    "collapsed": false
   },
   "outputs": [
    {
     "name": "stdout",
     "output_type": "stream",
     "text": [
      "100 loops, best of 3: 2.29 ms per loop\n",
      "100 loops, best of 3: 2.47 ms per loop\n",
      "100 loops, best of 3: 4.04 ms per loop\n",
      "100 loops, best of 3: 2.48 ms per loop\n",
      "1000 loops, best of 3: 1.06 ms per loop\n",
      "1000 loops, best of 3: 1.31 ms per loop\n"
     ]
    }
   ],
   "source": [
    "times = rand(100)\n",
    "\n",
    "%timeit(f1(times))\n",
    "%timeit(f2(times))\n",
    "%timeit(f3(times))\n",
    "%timeit(f4(times))\n",
    "%timeit(f5(times))\n",
    "%timeit(f6(times))"
   ]
  },
  {
   "cell_type": "code",
   "execution_count": 11,
   "metadata": {
    "collapsed": false
   },
   "outputs": [
    {
     "name": "stdout",
     "output_type": "stream",
     "text": [
      "10 loops, best of 3: 43.6 ms per loop\n",
      "10 loops, best of 3: 48.2 ms per loop\n",
      "10 loops, best of 3: 52.7 ms per loop\n",
      "10 loops, best of 3: 39.2 ms per loop\n",
      "10 loops, best of 3: 30.1 ms per loop\n",
      "10 loops, best of 3: 82.4 ms per loop\n"
     ]
    }
   ],
   "source": [
    "times = rand(1000)\n",
    "\n",
    "%timeit(f1(times))\n",
    "%timeit(f2(times))\n",
    "%timeit(f3(times))\n",
    "%timeit(f4(times))\n",
    "%timeit(f5(times))\n",
    "%timeit(f6(times))"
   ]
  },
  {
   "cell_type": "code",
   "execution_count": 12,
   "metadata": {
    "collapsed": false
   },
   "outputs": [
    {
     "name": "stdout",
     "output_type": "stream",
     "text": [
      "1 loop, best of 3: 2.29 s per loop\n",
      "1 loop, best of 3: 2.55 s per loop\n",
      "1 loop, best of 3: 1.99 s per loop\n",
      "1 loop, best of 3: 1.85 s per loop\n",
      "1 loop, best of 3: 2.14 s per loop\n",
      "1 loop, best of 3: 8.05 s per loop\n"
     ]
    }
   ],
   "source": [
    "times = rand(10000)\n",
    "\n",
    "%timeit(f1(times))\n",
    "%timeit(f2(times))\n",
    "%timeit(f3(times))\n",
    "%timeit(f4(times))\n",
    "%timeit(f5(times))\n",
    "%timeit(f6(times))"
   ]
  },
  {
   "cell_type": "markdown",
   "metadata": {},
   "source": [
    "**Conclusions:**\n",
    "\n",
    "- For small to medium data sets, `f5` wins (i.e. construct the matrix as a matrix using numpy as much as possible).\n",
    "- For larger data sets, space starts to win, and `f4` is quicker."
   ]
  },
  {
   "cell_type": "markdown",
   "metadata": {},
   "source": [
    "## Second order computations\n",
    "\n",
    "For parametric fitting, we might only be interested in $\\sum_i p_{i,i}$ or $\\sum_{i<j} p_{i,j}$ or $\\sum_{i<j} p_{i,j} (t_j-t_i)$."
   ]
  },
  {
   "cell_type": "code",
   "execution_count": 23,
   "metadata": {
    "collapsed": false
   },
   "outputs": [],
   "source": [
    "def sslow(times):\n",
    "    p = slow(times)\n",
    "    diag_sum = 0\n",
    "    for i in range(len(times)):\n",
    "        diag_sum += p[i,i]\n",
    "    off_diag_sum = 0\n",
    "    weighted_sum = 0\n",
    "    for i in range(len(times)):\n",
    "        for j in range(i):\n",
    "            off_diag_sum += p[j,i]\n",
    "            weighted_sum += p[j,i] * (times[i] - times[j])\n",
    "    return diag_sum, off_diag_sum, weighted_sum\n",
    "\n",
    "assert sslow([1]) == (1,0,0)\n",
    "assert np.all(np.abs(np.asarray(sslow([1,2])) - np.asarray([1.72355007, 0.27644993, 0.27644993])) < 1e-8)"
   ]
  },
  {
   "cell_type": "code",
   "execution_count": 38,
   "metadata": {
    "collapsed": true
   },
   "outputs": [],
   "source": [
    "def s0(times):\n",
    "    p = f5(times)\n",
    "    diag_sum = np.sum(p[np.diag_indices(p.shape[0])])\n",
    "    off_diag_sum, weighted_sum = 0, 0\n",
    "    for i, t in enumerate(times):\n",
    "        off_diag_sum += np.sum(p[:i, i])\n",
    "        weighted_sum += np.sum(p[:i, i] * (t - times[:i]))\n",
    "    return diag_sum, off_diag_sum, weighted_sum\n",
    "\n",
    "for n in range(1, 100):\n",
    "    times = rand(n)\n",
    "    exp = np.asarray(sslow(times))\n",
    "    got = np.asarray(s0(times))\n",
    "    assert np.all(np.abs(exp - got) < 1e-10)"
   ]
  },
  {
   "cell_type": "code",
   "execution_count": 39,
   "metadata": {
    "collapsed": false
   },
   "outputs": [],
   "source": [
    "def s1(times):\n",
    "    # From `f5`\n",
    "    times = np.asarray(times)\n",
    "    d = times.shape[0]\n",
    "    p = np.zeros((d,d))\n",
    "    p[np.diag_indices(d)] = back(times)\n",
    "    for i, t in enumerate(times):\n",
    "        p[:i, i] = trig(t - times[:i])\n",
    "    p /= np.sum(p, axis=0)[None,:]\n",
    "    diag_sum = np.sum(p[np.diag_indices(d)])\n",
    "    off_diag_sum = np.sum(p) - diag_sum\n",
    "    weighted_sum = 0\n",
    "    for i, t in enumerate(times):\n",
    "        weighted_sum += np.sum(p[:i, i] * (t - times[:i]))\n",
    "    return diag_sum, off_diag_sum, weighted_sum\n",
    "\n",
    "for n in range(1, 100):\n",
    "    times = rand(n)\n",
    "    exp = np.asarray(sslow(times))\n",
    "    got = np.asarray(s1(times))\n",
    "    assert np.all(np.abs(exp - got) < 1e-10)"
   ]
  },
  {
   "cell_type": "code",
   "execution_count": 40,
   "metadata": {
    "collapsed": true
   },
   "outputs": [],
   "source": [
    "def s2(times):\n",
    "    # Optimised s1\n",
    "    times = np.asarray(times)\n",
    "    d = times.shape[0]\n",
    "    diag = back(times)\n",
    "    off_diag_sum, weighted_sum = 0, 0\n",
    "    for i, t in enumerate(times):\n",
    "        tt = t - times[:i]\n",
    "        off_diag = trig(tt)\n",
    "        odt = np.sum(off_diag)\n",
    "        total = odt + diag[i]\n",
    "        diag[i] /= total\n",
    "        off_diag_sum += odt / total\n",
    "        weighted_sum += np.sum(off_diag * tt) / total\n",
    "    return np.sum(diag), off_diag_sum, weighted_sum\n",
    "\n",
    "for n in range(1, 100):\n",
    "    times = rand(n)\n",
    "    exp = np.asarray(sslow(times))\n",
    "    got = np.asarray(s2(times))\n",
    "    assert np.all(np.abs(exp - got) < 1e-10)"
   ]
  },
  {
   "cell_type": "code",
   "execution_count": 41,
   "metadata": {
    "collapsed": false
   },
   "outputs": [
    {
     "name": "stdout",
     "output_type": "stream",
     "text": [
      "1000 loops, best of 3: 345 µs per loop\n",
      "1000 loops, best of 3: 282 µs per loop\n",
      "1000 loops, best of 3: 283 µs per loop\n"
     ]
    }
   ],
   "source": [
    "times = rand(10)\n",
    "\n",
    "%timeit(s0(times))\n",
    "%timeit(s1(times))\n",
    "%timeit(s2(times))"
   ]
  },
  {
   "cell_type": "code",
   "execution_count": 42,
   "metadata": {
    "collapsed": false
   },
   "outputs": [
    {
     "name": "stdout",
     "output_type": "stream",
     "text": [
      "100 loops, best of 3: 3.06 ms per loop\n",
      "100 loops, best of 3: 2.38 ms per loop\n",
      "100 loops, best of 3: 2.63 ms per loop\n"
     ]
    }
   ],
   "source": [
    "times = rand(100)\n",
    "\n",
    "%timeit(s0(times))\n",
    "%timeit(s1(times))\n",
    "%timeit(s2(times))"
   ]
  },
  {
   "cell_type": "code",
   "execution_count": 43,
   "metadata": {
    "collapsed": false
   },
   "outputs": [
    {
     "name": "stdout",
     "output_type": "stream",
     "text": [
      "10 loops, best of 3: 55.1 ms per loop\n",
      "10 loops, best of 3: 45.9 ms per loop\n",
      "10 loops, best of 3: 41.9 ms per loop\n"
     ]
    }
   ],
   "source": [
    "times = rand(1000)\n",
    "\n",
    "%timeit(s0(times))\n",
    "%timeit(s1(times))\n",
    "%timeit(s2(times))"
   ]
  },
  {
   "cell_type": "code",
   "execution_count": 44,
   "metadata": {
    "collapsed": false
   },
   "outputs": [
    {
     "name": "stdout",
     "output_type": "stream",
     "text": [
      "1 loop, best of 3: 2.69 s per loop\n",
      "1 loop, best of 3: 2.52 s per loop\n",
      "1 loop, best of 3: 1.74 s per loop\n"
     ]
    }
   ],
   "source": [
    "times = rand(10000)\n",
    "\n",
    "%timeit(s0(times))\n",
    "%timeit(s1(times))\n",
    "%timeit(s2(times))"
   ]
  },
  {
   "cell_type": "markdown",
   "metadata": {},
   "source": [
    "**Conclusion:** Writing hand-tuned code is quicker, but not that much quicker, than doing the naive thing."
   ]
  },
  {
   "cell_type": "code",
   "execution_count": null,
   "metadata": {
    "collapsed": true
   },
   "outputs": [],
   "source": []
  }
 ],
 "metadata": {
  "kernelspec": {
   "display_name": "Python 3",
   "language": "python",
   "name": "python3"
  },
  "language_info": {
   "codemirror_mode": {
    "name": "ipython",
    "version": 3
   },
   "file_extension": ".py",
   "mimetype": "text/x-python",
   "name": "python",
   "nbconvert_exporter": "python",
   "pygments_lexer": "ipython3",
   "version": "3.6.0"
  }
 },
 "nbformat": 4,
 "nbformat_minor": 2
}
