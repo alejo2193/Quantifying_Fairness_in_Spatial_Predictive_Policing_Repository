{
 "cells": [
  {
   "cell_type": "markdown",
   "metadata": {},
   "source": [
    "This is slightly old, and eventually needs re-writing."
   ]
  },
  {
   "cell_type": "markdown",
   "metadata": {},
   "source": [
    "# Evaluating hotspots\n",
    "\n",
    "For the moment, we shall presume we are only comparing grid based predictions (though with an eye to possibly very small grid cells arising from continuous predictions).\n",
    "\n",
    "We first discuss a very high-level overview of a \"pipeline\" for producing predictions, scoring them, and comparing different predictions.  We then provide more details on each stage."
   ]
  },
  {
   "cell_type": "markdown",
   "metadata": {},
   "source": [
    "### Prediction pipeline\n",
    "\n",
    "1. **Certain grid cells are flagged.**  (E.g. A prediction technique assigns a \"risk\" to each cell, and the top 5% of cells are flagged.)\n",
    "2. **The prediction is compared against the actuality.** (E.g. For the next day, we count the number of crime events which occurred in flagged cells, compared to the total crime count.)  _This is currently the focus of work._\n",
    "3. **Other properties of the prediction are computed.** (E.g. a measure of \"compactness\" or \"clumpiness\" of the flagged areas; broadly we seek to assess how _practically_ useful the prediction is.)\n",
    "4. **This is repeated for many time periods.** (E.g. For each consequentive day over 6 months of data.)\n",
    "5. **The resulting time series are compared.** (E.g. through the use of summary statistics, or using a statistical test.)"
   ]
  },
  {
   "cell_type": "markdown",
   "metadata": {},
   "source": [
    "#### Other properties of the prediction\n",
    "\n",
    "TODO: Read [1] and [2]"
   ]
  },
  {
   "cell_type": "markdown",
   "metadata": {},
   "source": [
    "## References\n",
    "\n",
    "(Not in alphabetical order, sorry, so that adding a new article doesn't require changing all the numbers above :smile:)\n",
    "\n",
    "4. Bowers at al, \"Prospective hot-spotting: The future of crime mapping?\", Brit. J. Criminol. 44 (2004) 641--658. [DOI:10.1093/bjc/azh036](https://doi.org/10.1093/bjc/azh036)\n",
    "5. Adepeju et al, \"Novel evaluation metrics for sparse spatiotemporal point process hotspot predictions - a crime case study\", International Journal of Geographical Information Science, 30:11, 2133-2154, [DOI:10.1080/13658816.2016.1159684](https://doi.org/10.1080/13658816.2016.1159684)\n"
   ]
  },
  {
   "cell_type": "code",
   "execution_count": null,
   "metadata": {
    "collapsed": true
   },
   "outputs": [],
   "source": []
  }
 ],
 "metadata": {
  "kernelspec": {
   "display_name": "Python 3",
   "language": "python",
   "name": "python3"
  },
  "language_info": {
   "codemirror_mode": {
    "name": "ipython",
    "version": 3
   },
   "file_extension": ".py",
   "mimetype": "text/x-python",
   "name": "python",
   "nbconvert_exporter": "python",
   "pygments_lexer": "ipython3",
   "version": "3.6.0"
  }
 },
 "nbformat": 4,
 "nbformat_minor": 2
}
