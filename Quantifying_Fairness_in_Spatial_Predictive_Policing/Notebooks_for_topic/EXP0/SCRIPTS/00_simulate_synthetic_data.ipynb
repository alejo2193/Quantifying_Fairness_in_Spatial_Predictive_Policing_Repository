{
 "cells": [
  {
   "cell_type": "markdown",
   "metadata": {},
   "source": [
    "# Simulating Self-Exciting Point Processes (SEPP) with Random Kernels\n",
    "This notebook simulates spatial-temporal point processes using custom kernels and stores the resulting event data.\n",
    "It follows a structured approach: kernel definitions, sampling, and data storage."
   ]
  },
  {
   "cell_type": "markdown",
   "metadata": {},
   "source": [
    "## 0. Import and path configuration\n",
    "Sets up the environment, loads libraries and sets Python paths for module imports."
   ]
  },
  {
   "cell_type": "code",
   "execution_count": null,
   "metadata": {},
   "outputs": [],
   "source": [
    "import sys, os.path, os\n",
    "from pathlib import Path\n",
    "\n",
    "# Set relative paths to required libraries (update according to your local folder structure)\n",
    "path_opencp = Path('Librerias/PredictCode')\n",
    "path_fairness = Path('Librerias')\n",
    "path_exp = Path('Notebooks_for_topic/EXP0/SCRIPTS')\n",
    "\n",
    "# Add paths to system path\n",
    "sys.path.insert(0, str(path_opencp.resolve()))\n",
    "sys.path.insert(0, str(path_fairness.resolve()))\n",
    "sys.path.insert(0, str(path_exp.resolve()))"
   ]
  },
  {
   "cell_type": "markdown",
   "metadata": {},
   "source": [
    "## 1. Load libraries and define helper plotting functions\n",
    "Imports required packages and defines visualization functions for event data."
   ]
  },
  {
   "cell_type": "code",
   "execution_count": null,
   "metadata": {},
   "outputs": [],
   "source": [
    "import open_cp\n",
    "import numpy as np\n",
    "import open_cp.plot as plot\n",
    "import matplotlib.pyplot as plt\n",
    "import datetime\n",
    "import pickle as pkl\n",
    "\n",
    "# Plot raw spatial and temporal events\n",
    "def plot_events(data, f_inicial, f_final):\n",
    "    fig, ax = plt.subplots(ncols=2, figsize=(9,2.5))\n",
    "    ax[0].scatter(data.xcoords, data.ycoords, marker='+', alpha=0.5)\n",
    "    ax[0].set_title('Coordinates')\n",
    "    ax[0].set_xlabel('Coordinate X')\n",
    "    ax[0].set_ylabel('Coordinate Y')\n",
    "    ax[0].set(xlim=[0,1], ylim=[0,1])\n",
    "    \n",
    "    times = data.times_datetime()\n",
    "    ax[1].scatter(times, data.ycoords, marker='+', alpha=0.1)\n",
    "    ax[1].set_xlim([f_inicial, f_final])\n",
    "    ax[1].set_ylim([0, 1])\n",
    "    ax[1].set_title('Coordinate Vs Dates')\n",
    "    ax[1].set_xlabel('Date')\n",
    "    ax[1].set_ylabel('Coordinate Y')\n",
    "    fig.autofmt_xdate()"
   ]
  },
  {
   "cell_type": "markdown",
   "metadata": {},
   "source": [
    "## 2. Setup simulation parameters\n",
    "Defines region, time units and other global parameters for SEPP simulation."
   ]
  },
  {
   "cell_type": "code",
   "execution_count": null,
   "metadata": {},
   "outputs": [],
   "source": [
    "from open_cp.sources.sepp import make_time_unit\n",
    "from global_vars import x_min, x_max, y_min, y_max, f_inicial, f_final, grid_size, days_time_unit, n_events_day\n",
    "\n",
    "region = open_cp.RectangularRegion(x_min, x_max, y_min, y_max)\n",
    "time_unit = make_time_unit(datetime.timedelta(days=days_time_unit))\n",
    "total_days = (f_final - f_inicial).days\n",
    "number_of_samples = 30\n",
    "\n",
    "# Load additional components\n",
    "from open_cp.sources.random import KernelSampler\n",
    "from open_cp.sources.sepp import Exponential, HomogeneousPoisson, InhomogeneousPoissonFactors\n",
    "import open_cp.naive as naive"
   ]
  },
  {
   "cell_type": "markdown",
   "metadata": {},
   "source": [
    "## 3. Define SEPP sampling function\n",
    "Generates a sample using spatial and temporal kernels."
   ]
  },
  {
   "cell_type": "code",
   "execution_count": null,
   "metadata": {},
   "outputs": [],
   "source": [
    "from open_cp.kernels import GaussianKernel\n",
    "\n",
    "def sepp_sample(means_hotspots, variances_hotspots, total_rate_exp, variance_trigg, rate_time_kernel, f_inicial, time_unit, region, **args):\n",
    "    GK = GaussianKernel(means_hotspots.T, variances_hotspots.T)\n",
    "    try:\n",
    "        GK.set_scale(1 / max(GK(means_hotspots.T)))\n",
    "    except:\n",
    "        GK.set_scale(1 / GK(means_hotspots.T))\n",
    "    \n",
    "    K_sampler = KernelSampler(region, GK, 1)\n",
    "    Homo_timeK = HomogeneousPoisson(rate=rate_time_kernel)\n",
    "    Exp_timeK = Exponential(1, total_rate_exp)\n",
    "\n",
    "    background_sampler = InhomogeneousPoissonFactors(Homo_timeK, K_sampler)\n",
    "    trig_space_sampler = open_cp.sources.sepp.GaussianSpaceSampler([0,0], [variance_trigg, variance_trigg], 0)\n",
    "    trigger_sampler = InhomogeneousPoissonFactors(Exp_timeK, trig_space_sampler)\n",
    "\n",
    "    simulation = open_cp.sources.sepp.SelfExcitingPointProcess(background_sampler, trigger_sampler)\n",
    "    sample = simulation.sample(0, total_days)\n",
    "    timed_points = open_cp.sources.sepp.scale_to_real_time(sample, f_inicial, time_unit)\n",
    "    return timed_points"
   ]
  },
  {
   "cell_type": "markdown",
   "metadata": {},
   "source": [
    "## 4. Generate random kernel parameters\n",
    "Generates random spatial and temporal kernel parameters for simulation."
   ]
  },
  {
   "cell_type": "code",
   "execution_count": null,
   "metadata": {},
   "outputs": [],
   "source": [
    "def random_vars():\n",
    "    n_spatial_hotspots = np.random.randint(1, 5)\n",
    "    centros_hotspots = np.random.rand(n_spatial_hotspots, 2)\n",
    "    varianzas = np.random.rand(n_spatial_hotspots, 2) * 0.04\n",
    "    exp_rate = np.random.rand() * 0.05 + 0.7\n",
    "    trigger_var = np.random.rand() * 0.001\n",
    "    \n",
    "    return {\n",
    "        \"means_hotspots\": centros_hotspots,\n",
    "        \"variances_hotspots\": varianzas,\n",
    "        \"total_rate_exp\": exp_rate,\n",
    "        \"variance_trigg\": trigger_var,\n",
    "        \"rate_time_kernel\": n_events_day / 3,\n",
    "        \"n_spatial_hotspots\": n_spatial_hotspots\n",
    "    }"
   ]
  },
  {
   "cell_type": "markdown",
   "metadata": {},
   "source": [
    "## 5. Simulation loop and data storage\n",
    "Runs the simulation multiple times and saves the resulting datasets."
   ]
  },
  {
   "cell_type": "code",
   "execution_count": null,
   "metadata": {},
   "outputs": [],
   "source": [
    "from global_vars import dir_sims\n",
    "dir_parametros = os.path.join(dir_sims, \"parametros\")\n",
    "prefix_data = \"Data_\"\n",
    "\n",
    "for i in range(number_of_samples):\n",
    "    parms = random_vars()\n",
    "    parms[\"f_inicial\"] = f_inicial\n",
    "    parms[\"time_unit\"] = time_unit\n",
    "    parms[\"region\"] = region\n",
    "\n",
    "    timed_points = sepp_sample(**parms)\n",
    "    print(timed_points.number_data_points)\n",
    "    plot_events(timed_points, f_inicial, f_final)\n",
    "    pkl.dump(timed_points, open(os.path.join(dir_sims, prefix_data + str(i) + \".pkl\"), \"wb\"))"
   ]
  }
 ],
 "metadata": {
  "kernelspec": {
   "display_name": "Python 3",
   "name": "python3"
  },
  "language_info": {
   "name": "python",
   "version": "3.9"
  }
 },
 "nbformat": 4,
 "nbformat_minor": 2
}
